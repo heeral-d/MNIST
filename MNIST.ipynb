{
  "nbformat": 4,
  "nbformat_minor": 0,
  "metadata": {
    "colab": {
      "name": "MNIST.ipynb",
      "provenance": [],
      "authorship_tag": "ABX9TyMP+KFqnbAhGXtQ/tE4YLsK"
    },
    "kernelspec": {
      "name": "python3",
      "display_name": "Python 3"
    }
  },
  "cells": [
    {
      "cell_type": "markdown",
      "metadata": {
        "id": "8t5NuNcNpcBc",
        "colab_type": "text"
      },
      "source": [
        "# Handwritten Digit Classifier\n",
        "### MNIST Dataset\n",
        "The MNIST database (Modified National Institute of Standards and Technology database) is a large database of handwritten digits that is commonly used for training various image processing systems. This dataset is considered to be the \"hello world\" dataset for Computer Vision. <br> <br>\n",
        "It has a training set of 60,000 examples and a test set of 10,000 examples for handwritten digits with a fixed dimension of 28X28 pixels. The *goal is to correctly identify digits* and find ways to improve the performance of the model. So let's dive into it -"
      ]
    },
    {
      "cell_type": "markdown",
      "metadata": {
        "id": "uU2cNQUQKQGn",
        "colab_type": "text"
      },
      "source": [
        "### Import the required Libraries"
      ]
    },
    {
      "cell_type": "code",
      "metadata": {
        "id": "_LyToFA-DPUC",
        "colab_type": "code",
        "colab": {}
      },
      "source": [
        "import numpy as np                   \n",
        "import matplotlib.pyplot as plt      \n",
        "import random                        \n",
        "\n",
        "from keras.datasets import mnist     \n",
        "from keras.models import Sequential  \n",
        "\n",
        "from keras.layers.core import Dense, Dropout, Activation \n",
        "from keras.utils import np_utils                         "
      ],
      "execution_count": null,
      "outputs": []
    },
    {
      "cell_type": "markdown",
      "metadata": {
        "id": "tGH454SKK7qU",
        "colab_type": "text"
      },
      "source": [
        "NumPy is an advanced Math Library in Python. Matplotlib will be used to plot graphs and for data visualization. We will import the MNIST dataset which is pre-loaded in Keras. We will use the Sequential Model and import the basic layers and util tools."
      ]
    },
    {
      "cell_type": "markdown",
      "metadata": {
        "id": "AqVGKWCtS6-H",
        "colab_type": "text"
      },
      "source": [
        "### Load the MNIST dataset"
      ]
    },
    {
      "cell_type": "code",
      "metadata": {
        "id": "9JOY78lmK31i",
        "colab_type": "code",
        "colab": {
          "base_uri": "https://localhost:8080/",
          "height": 88
        },
        "outputId": "37a06350-0ba0-4c6f-8a38-be838bdd843a"
      },
      "source": [
        "(X_train, y_train), (X_test, y_test) = mnist.load_data()\n",
        "\n",
        "print(\"X_train shape\", X_train.shape)\n",
        "print(\"y_train shape\", y_train.shape)\n",
        "print(\"X_test shape\", X_test.shape)\n",
        "print(\"y_test shape\", y_test.shape)"
      ],
      "execution_count": null,
      "outputs": [
        {
          "output_type": "stream",
          "text": [
            "X_train shape (60000, 28, 28)\n",
            "y_train shape (60000,)\n",
            "X_test shape (10000, 28, 28)\n",
            "y_test shape (10000,)\n"
          ],
          "name": "stdout"
        }
      ]
    },
    {
      "cell_type": "markdown",
      "metadata": {
        "id": "Wbxry8jddHi_",
        "colab_type": "text"
      },
      "source": [
        "We load the dataset and verify the dimensions of the training and testing sets."
      ]
    },
    {
      "cell_type": "code",
      "metadata": {
        "id": "0oZTtVK9Koq2",
        "colab_type": "code",
        "colab": {
          "base_uri": "https://localhost:8080/",
          "height": 297
        },
        "outputId": "5f588406-2a98-44a3-f478-0a51ac897ca8"
      },
      "source": [
        "for i in range(9):\n",
        "    plt.subplot(3,3,i+1)\n",
        "    num = random.randint(0, len(X_train))\n",
        "    plt.imshow(X_train[num], cmap='gray', interpolation='none')\n",
        "    plt.title(\"Class {}\".format(y_train[num]))\n",
        "    \n",
        "plt.tight_layout()"
      ],
      "execution_count": null,
      "outputs": [
        {
          "output_type": "display_data",
          "data": {
            "image/png": "[encoded data removed]",
            "text/plain": [
              "<Figure size 432x288 with 9 Axes>"
            ]
          },
          "metadata": {
            "tags": [],
            "needs_background": "light"
          }
        }
      ]
    },
    {
      "cell_type": "markdown",
      "metadata": {
        "id": "pqI2bodq1yry",
        "colab_type": "text"
      },
      "source": [
        "Here we are randomly selecting 9 images from the dataset and plotting them to get an idea of the handwritten digits and their respective classes."
      ]
    },
    {
      "cell_type": "markdown",
      "metadata": {
        "id": "SauZCN_Wdx7c",
        "colab_type": "text"
      },
      "source": [
        "## Data Pre-Processing\n",
        "Instead of a 28 x 28 matrix, we build our network to accept a 784-length vector. Pixel values range from 0 to 255 where 0 is black and 255 is pure white. We will normalize these values by dividing them by 255 so that we get the output pixel values between [0,1] in the same magnitude.\n",
        "\n",
        "Note that we are working with grayscale images of dimension 28 x 28 pixels. If we have color images, we have 3 channels for RGB, i.e. 28 x 28 x 3, each with pixel value in the range 0 to 255."
      ]
    },
    {
      "cell_type": "code",
      "metadata": {
        "id": "fSSUoc_P45j2",
        "colab_type": "code",
        "colab": {
          "base_uri": "https://localhost:8080/",
          "height": 52
        },
        "outputId": "f2013ef5-30d2-46bb-b4c0-da1761a97839"
      },
      "source": [
        "X_train = X_train.reshape(60000, 784) \n",
        "X_test = X_test.reshape(10000, 784)   \n",
        "\n",
        "X_train = X_train.astype('float32')   \n",
        "X_test = X_test.astype('float32')\n",
        "\n",
        "X_train /= 255                        \n",
        "X_test /= 255\n",
        "\n",
        "print(\"Training matrix shape\", X_train.shape)\n",
        "print(\"Testing matrix shape\", X_test.shape)"
      ],
      "execution_count": null,
      "outputs": [
        {
          "output_type": "stream",
          "text": [
            "Training matrix shape (60000, 784)\n",
            "Testing matrix shape (10000, 784)\n"
          ],
          "name": "stdout"
        }
      ]
    },
    {
      "cell_type": "markdown",
      "metadata": {
        "id": "2aI3zOUoqvX_",
        "colab_type": "text"
      },
      "source": [
        "We use the reshape function to reshape 28 x 28 matrices into 784-length vectors, and convert the data type from Integer to 32-bit floating point numbers. Then we normalize the vectors by dividing each pixel value by 255. "
      ]
    },
    {
      "cell_type": "code",
      "metadata": {
        "id": "sQmmqNMB56Eg",
        "colab_type": "code",
        "colab": {}
      },
      "source": [
        "no_classes = 10\n",
        "\n",
        "Y_train = np_utils.to_categorical(y_train, no_classes)\n",
        "Y_test = np_utils.to_categorical(y_test, no_classes)"
      ],
      "execution_count": null,
      "outputs": []
    },
    {
      "cell_type": "markdown",
      "metadata": {
        "id": "GL2Jl5VbrVP7",
        "colab_type": "text"
      },
      "source": [
        "Since the output will be classified as one of the 10 classes we use one-hot encoding technique to form the output (Y variable). Read more about one-hot encoding here - https://machinelearningmastery.com/why-one-hot-encode-data-in-machine-learning/"
      ]
    },
    {
      "cell_type": "markdown",
      "metadata": {
        "id": "pfFoJswB0UoD",
        "colab_type": "text"
      },
      "source": [
        "## Building the 3-Layer Neural Network"
      ]
    },
    {
      "cell_type": "markdown",
      "metadata": {
        "id": "JAO0sQXI1Rs5",
        "colab_type": "text"
      },
      "source": [
        "![alt text](https://chsasank.github.io/assets/images/crash_course/mnist_net.png)\n"
      ]
    },
    {
      "cell_type": "code",
      "metadata": {
        "id": "xIgisZZ3l8mO",
        "colab_type": "code",
        "colab": {}
      },
      "source": [
        "model = Sequential()"
      ],
      "execution_count": null,
      "outputs": []
    },
    {
      "cell_type": "markdown",
      "metadata": {
        "id": "a7GzYQPeppsG",
        "colab_type": "text"
      },
      "source": [
        "The sequential API allows you to create models layer-by-layer.\n"
      ]
    },
    {
      "cell_type": "markdown",
      "metadata": {
        "id": "wLmWpCRU0jkF",
        "colab_type": "text"
      },
      "source": [
        "### First Hidden Layer"
      ]
    },
    {
      "cell_type": "code",
      "metadata": {
        "id": "kZXg27IamIuK",
        "colab_type": "code",
        "colab": {}
      },
      "source": [
        "model.add(Dense(512, input_shape=(784,))) "
      ],
      "execution_count": null,
      "outputs": []
    },
    {
      "cell_type": "markdown",
      "metadata": {
        "id": "da2yr2JZqi_r",
        "colab_type": "text"
      },
      "source": [
        "The first hidden layer has 512 nodes (neurons) whose input is a vector of size 784. Each node will receive an element from each input vector and apply some weight and bias to it."
      ]
    },
    {
      "cell_type": "code",
      "metadata": {
        "id": "WdpNsfkwmReC",
        "colab_type": "code",
        "colab": {}
      },
      "source": [
        "model.add(Activation('relu'))"
      ],
      "execution_count": null,
      "outputs": []
    },
    {
      "cell_type": "markdown",
      "metadata": {
        "id": "cs_-QarVqyMO",
        "colab_type": "text"
      },
      "source": [
        "In artificial neural networks, the activation function of a node defines the output of that node given an input or set of inputs. ReLU stands for rectified linear unit, and is a type of activation function. $$ ReLU: f(x) = max (0,x)$$"
      ]
    },
    {
      "cell_type": "code",
      "metadata": {
        "id": "CHx56WnnmSK4",
        "colab_type": "code",
        "colab": {}
      },
      "source": [
        "model.add(Dropout(0.2))"
      ],
      "execution_count": null,
      "outputs": []
    },
    {
      "cell_type": "markdown",
      "metadata": {
        "id": "TBZTD_OywLcN",
        "colab_type": "text"
      },
      "source": [
        "Dropout randomly selects a few nodes and nullifies their output (deactivates the node). This helps in ensuring that the model is not overfitted to the training dataset."
      ]
    },
    {
      "cell_type": "markdown",
      "metadata": {
        "id": "MLvBzYiIw0Rr",
        "colab_type": "text"
      },
      "source": [
        "### Second Hidden Layer"
      ]
    },
    {
      "cell_type": "code",
      "metadata": {
        "id": "L34V63mbmWxP",
        "colab_type": "code",
        "colab": {}
      },
      "source": [
        "model.add(Dense(512))\n",
        "model.add(Activation('relu'))\n",
        "model.add(Dropout(0.2))"
      ],
      "execution_count": null,
      "outputs": []
    },
    {
      "cell_type": "markdown",
      "metadata": {
        "id": "Nuk3LTBfw7Ek",
        "colab_type": "text"
      },
      "source": [
        "The second hidden layer also has 512 nodes and it takes input from the 512 nodes in the previous layer and gives its output to the next subsequent layer. "
      ]
    },
    {
      "cell_type": "markdown",
      "metadata": {
        "id": "6IDEZY9XLYYQ",
        "colab_type": "text"
      },
      "source": [
        "### Final Output Layer"
      ]
    },
    {
      "cell_type": "markdown",
      "metadata": {
        "id": "p69df3kIM3cO",
        "colab_type": "text"
      },
      "source": [
        "The final layer of 10 neurons in fully-connected to the previous 512-node layer. <br>\n",
        "The final layer should be equal to the number of desired output classes."
      ]
    },
    {
      "cell_type": "code",
      "metadata": {
        "id": "9CzqCM13maeE",
        "colab_type": "code",
        "colab": {}
      },
      "source": [
        "model.add(Dense(10))\n",
        "model.add(Activation('softmax'))"
      ],
      "execution_count": null,
      "outputs": []
    },
    {
      "cell_type": "markdown",
      "metadata": {
        "id": "B-gvnPrVQLUN",
        "colab_type": "text"
      },
      "source": [
        "The Softmax Activation represents a probability distribution over n  different possible outcomes. Its values are all non-negative and sum to 1.\n",
        "For example, if the final output is:\n",
        "`[0, 0.94, 0, 0, 0, 0, 0, 0.06, 0, 0]`\n",
        "then it is most probable that the image is that of the digit `1`"
      ]
    },
    {
      "cell_type": "code",
      "metadata": {
        "id": "i5dry4PPmjR0",
        "colab_type": "code",
        "colab": {
          "base_uri": "https://localhost:8080/",
          "height": 444
        },
        "outputId": "63d0cff5-77a3-4d89-bc34-c0b5c3f77d5c"
      },
      "source": [
        "model.summary()"
      ],
      "execution_count": null,
      "outputs": [
        {
          "output_type": "stream",
          "text": [
            "Model: \"sequential_3\"\n",
            "_________________________________________________________________\n",
            "Layer (type)                 Output Shape              Param #   \n",
            "=================================================================\n",
            "dense_7 (Dense)              (None, 512)               401920    \n",
            "_________________________________________________________________\n",
            "activation_7 (Activation)    (None, 512)               0         \n",
            "_________________________________________________________________\n",
            "dropout_5 (Dropout)          (None, 512)               0         \n",
            "_________________________________________________________________\n",
            "dense_8 (Dense)              (None, 512)               262656    \n",
            "_________________________________________________________________\n",
            "activation_8 (Activation)    (None, 512)               0         \n",
            "_________________________________________________________________\n",
            "dropout_6 (Dropout)          (None, 512)               0         \n",
            "_________________________________________________________________\n",
            "dense_9 (Dense)              (None, 10)                5130      \n",
            "_________________________________________________________________\n",
            "activation_9 (Activation)    (None, 10)                0         \n",
            "=================================================================\n",
            "Total params: 669,706\n",
            "Trainable params: 669,706\n",
            "Non-trainable params: 0\n",
            "_________________________________________________________________\n"
          ],
          "name": "stdout"
        }
      ]
    },
    {
      "cell_type": "markdown",
      "metadata": {
        "id": "3KCzBUotRpxc",
        "colab_type": "text"
      },
      "source": [
        "## Compiling the model"
      ]
    },
    {
      "cell_type": "markdown",
      "metadata": {
        "id": "TA5sAcu4a7Ll",
        "colab_type": "text"
      },
      "source": [
        "When compiling a model, Keras asks you to specify your loss function and your optimizer."
      ]
    },
    {
      "cell_type": "code",
      "metadata": {
        "id": "-RH0UFlSm6w9",
        "colab_type": "code",
        "colab": {}
      },
      "source": [
        "model.compile(loss='categorical_crossentropy', optimizer='adam', metrics=['accuracy'])"
      ],
      "execution_count": null,
      "outputs": []
    },
    {
      "cell_type": "markdown",
      "metadata": {
        "id": "Cjdu6yfWa-u_",
        "colab_type": "text"
      },
      "source": [
        "The loss function we'll use here is called categorical cross-entropy and is a loss function well-suited to comparing two probability distributions. The cross-entropy is a measure of how different your predicted distribution is from the target distribution. <br>\n",
        "Optimizers are algorithms or methods used to change the attributes of the neural network such as weights and learning rate to reduce the losses. Optimizers are used to solve optimization problems by minimizing the loss function. In our case, we use the Adam Optimizer."
      ]
    },
    {
      "cell_type": "code",
      "metadata": {
        "id": "-Oe6NN9pnCl_",
        "colab_type": "code",
        "colab": {
          "base_uri": "https://localhost:8080/",
          "height": 195
        },
        "outputId": "81e3f130-f7b0-4b23-ff6d-3220280866a3"
      },
      "source": [
        "history = model.fit(X_train, Y_train,\n",
        "          batch_size=128, epochs=5,\n",
        "          verbose=1)"
      ],
      "execution_count": null,
      "outputs": [
        {
          "output_type": "stream",
          "text": [
            "Epoch 1/5\n",
            "60000/60000 [==============================] - 9s 147us/step - loss: 0.2493 - accuracy: 0.9250\n",
            "Epoch 2/5\n",
            "60000/60000 [==============================] - 9s 147us/step - loss: 0.1000 - accuracy: 0.9686\n",
            "Epoch 3/5\n",
            "60000/60000 [==============================] - 9s 146us/step - loss: 0.0723 - accuracy: 0.9773\n",
            "Epoch 4/5\n",
            "60000/60000 [==============================] - 9s 147us/step - loss: 0.0560 - accuracy: 0.9821\n",
            "Epoch 5/5\n",
            "60000/60000 [==============================] - 9s 147us/step - loss: 0.0454 - accuracy: 0.9849\n"
          ],
          "name": "stdout"
        }
      ]
    },
    {
      "cell_type": "markdown",
      "metadata": {
        "id": "hW3K6OnOgsY-",
        "colab_type": "text"
      },
      "source": [
        "The batch size determines how much data per step is used to compute the loss function, gradients, and backpropagation. Note that the accuracy increases after every epoch. We need to have a balanced number of epochs as higher epochs come at the risk of overfitting the model to the training set and may result in lower accuracy in the test case."
      ]
    },
    {
      "cell_type": "markdown",
      "metadata": {
        "id": "DUGDxPjvgox-",
        "colab_type": "text"
      },
      "source": [
        "## Evaluate the model\n",
        "We will now evaluate our model against the Testing dataset"
      ]
    },
    {
      "cell_type": "code",
      "metadata": {
        "id": "l5yl2TXtnEYw",
        "colab_type": "code",
        "colab": {
          "base_uri": "https://localhost:8080/",
          "height": 70
        },
        "outputId": "7a7606dc-05a2-4699-e39a-e1b82f3cd4e2"
      },
      "source": [
        "score = model.evaluate(X_test, Y_test)\n",
        "print('Test score:', score[0])\n",
        "print('Test accuracy:', score[1])"
      ],
      "execution_count": null,
      "outputs": [
        {
          "output_type": "stream",
          "text": [
            "10000/10000 [==============================] - 1s 67us/step\n",
            "Test score: 0.06385218842983595\n",
            "Test accuracy: 0.9812999963760376\n"
          ],
          "name": "stdout"
        }
      ]
    },
    {
      "cell_type": "markdown",
      "metadata": {
        "id": "rvZZdJJuiWx-",
        "colab_type": "text"
      },
      "source": [
        "We get a test accuracy of `98.4%` which is fairly good for the first attempt.\n",
        "\n"
      ]
    },
    {
      "cell_type": "markdown",
      "metadata": {
        "id": "dLXiytS79SWI",
        "colab_type": "text"
      },
      "source": [
        "Save the model."
      ]
    },
    {
      "cell_type": "code",
      "metadata": {
        "id": "5XOMwMsB8k22",
        "colab_type": "code",
        "colab": {
          "base_uri": "https://localhost:8080/",
          "height": 35
        },
        "outputId": "de19540c-6146-49fb-8a78-40520ca1b2c1"
      },
      "source": [
        "import os\n",
        "save_dir = \"/\"\n",
        "model_name = 'keras_mnist.h5'\n",
        "model_path = os.path.join(save_dir, model_name)\n",
        "model.save(model_path)\n",
        "print('Saved trained model at %s ' % model_path)"
      ],
      "execution_count": null,
      "outputs": [
        {
          "output_type": "stream",
          "text": [
            "Saved trained model at /keras_mnist.h5 \n"
          ],
          "name": "stdout"
        }
      ]
    },
    {
      "cell_type": "markdown",
      "metadata": {
        "id": "jQas2JrF9Vvp",
        "colab_type": "text"
      },
      "source": [
        "Plot the accuracy and loss metrics of the model."
      ]
    },
    {
      "cell_type": "code",
      "metadata": {
        "id": "4B1VRE4381nn",
        "colab_type": "code",
        "colab": {
          "base_uri": "https://localhost:8080/",
          "height": 297
        },
        "outputId": "9918c4a2-0d07-4ad1-b2ff-b298d90c0751"
      },
      "source": [
        "fig = plt.figure()\n",
        "plt.subplot(2,1,1)\n",
        "plt.plot(history.history['accuracy'])\n",
        "plt.title('model accuracy')\n",
        "plt.ylabel('accuracy')\n",
        "plt.xlabel('epoch')\n",
        "plt.legend(['train', 'test'], loc='lower right')\n",
        "\n",
        "plt.subplot(2,1,2)\n",
        "plt.plot(history.history['loss'])\n",
        "plt.title('model loss')\n",
        "plt.ylabel('loss')\n",
        "plt.xlabel('epoch')\n",
        "plt.legend(['train', 'test'], loc='upper right')\n",
        "\n",
        "plt.tight_layout()"
      ],
      "execution_count": null,
      "outputs": [
        {
          "output_type": "display_data",
          "data": {
            "image/png": "[encoded data removed]",
            "text/plain": [
              "<Figure size 432x288 with 2 Axes>"
            ]
          },
          "metadata": {
            "tags": [],
            "needs_background": "light"
          }
        }
      ]
    },
    {
      "cell_type": "markdown",
      "metadata": {
        "id": "LusUBVpwpO8h",
        "colab_type": "text"
      },
      "source": [
        "\n",
        "\n",
        "---\n",
        "\n"
      ]
    },
    {
      "cell_type": "markdown",
      "metadata": {
        "id": "B_81azEXiemY",
        "colab_type": "text"
      },
      "source": [
        "Now let us introspect a few correctly and wrongly classified images to get a better understanding of where the model fails and hopefully take corrective measures to increse its accuracy."
      ]
    },
    {
      "cell_type": "code",
      "metadata": {
        "id": "4ZcEca2tnSFW",
        "colab_type": "code",
        "colab": {}
      },
      "source": [
        "predicted_classes = model.predict_classes(X_test)\n",
        "\n",
        "correct_indices = np.nonzero(predicted_classes == y_test)[0]\n",
        "\n",
        "incorrect_indices = np.nonzero(predicted_classes != y_test)[0]"
      ],
      "execution_count": null,
      "outputs": []
    },
    {
      "cell_type": "code",
      "metadata": {
        "id": "uI74SLrpnXsf",
        "colab_type": "code",
        "colab": {
          "base_uri": "https://localhost:8080/",
          "height": 577
        },
        "outputId": "9f5c1e64-c634-4f43-ae75-65596826be71"
      },
      "source": [
        "plt.figure()\n",
        "for i, correct in enumerate(correct_indices[:9]):\n",
        "    plt.subplot(3,3,i+1)\n",
        "    plt.imshow(X_test[correct].reshape(28,28), cmap='gray', interpolation='none')\n",
        "    plt.title(\"Predicted {}, Class {}\".format(predicted_classes[correct], y_test[correct]))\n",
        "    \n",
        "plt.tight_layout()\n",
        "    \n",
        "plt.figure()\n",
        "for i, incorrect in enumerate(incorrect_indices[:9]):\n",
        "    plt.subplot(3,3,i+1)\n",
        "    plt.imshow(X_test[incorrect].reshape(28,28), cmap='gray', interpolation='none')\n",
        "    plt.title(\"Predicted {}, Class {}\".format(predicted_classes[incorrect], y_test[incorrect]))\n",
        "    \n",
        "plt.tight_layout()"
      ],
      "execution_count": null,
      "outputs": [
        {
          "output_type": "display_data",
          "data": {
            "image/png": "[encoded data removed]",
            "text/plain": [
              "<Figure size 432x288 with 9 Axes>"
            ]
          },
          "metadata": {
            "tags": [],
            "needs_background": "light"
          }
        },
        {
          "output_type": "display_data",
          "data": {
            "image/png": "[encoded data removed]",
            "text/plain": [
              "<Figure size 432x288 with 9 Axes>"
            ]
          },
          "metadata": {
            "tags": [],
            "needs_background": "light"
          }
        }
      ]
    }
  ]
}